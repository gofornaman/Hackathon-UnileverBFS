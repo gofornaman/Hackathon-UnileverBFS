{
 "cells": [
  {
   "cell_type": "markdown",
   "metadata": {},
   "source": [
    "# BFS - Datathon - Team Blitzkreig"
   ]
  },
  {
   "cell_type": "markdown",
   "metadata": {},
   "source": [
    "1. Problem Statement\n",
    "2. Dataset\n",
    "2.1 Metrics we added (with explanation)\n",
    "2.2 Solution ( 3 fold )\n",
    "- Descriptive Analytics, which use data aggregation and data mining to provide insight into the past and answer: “What has happened?”\n",
    "- Predictive Analytics, which use statistical models and forecasts techniques to understand the future and answer: “What could happen?”\n",
    "- Prescriptive Analytics, which use optimization and simulation algorithms to advice on possible outcomes and answer: “What should we do?”\n",
    "\n",
    "2.3 Pipeline"
   ]
  },
  {
   "cell_type": "markdown",
   "metadata": {},
   "source": [
    "## Problem Statement"
   ]
  },
  {
   "cell_type": "markdown",
   "metadata": {},
   "source": [
    "**Short:** To build a dashboard which displays the trends in NRR and relevant metrics using the dataset provided. \n",
    "\n",
    "A key component of the dashboard is to give the power of customization of the variables to the user. The user has the power to change the value of the 'levers'. Change in the value of these levers changes the values of NRR and other relevant metrics. This is dynamically displayed on the dashboard.\n",
    "\n",
    "Filters described "
   ]
  },
  {
   "cell_type": "markdown",
   "metadata": {},
   "source": [
    "## Metrics Added"
   ]
  },
  {
   "cell_type": "markdown",
   "metadata": {},
   "source": [
    "1. **Cluster** - It groups the different Distributors into the NAMETRUB countries.\n",
    "\n",
    "\n",
    "2. **Store Format** - The type and size of store. They are divided into:\n",
    "    2.1 Modern Trade: Distributors like Walmart, Big Bazaar and other such retail stores\n",
    "    2.2 Distributive Trade: Smaller stores found with higher frequency which store a limited array of products.\n",
    "\n",
    "\n",
    "3. **Distributors** - The different distributors as given in the dataset. There were 43 unique distributors.\n",
    "\n",
    "\n",
    "4. **Division (Category)** - The broader category to which a particular brand and product belong to. They are:\n",
    "    4.1 Beauty & Personal Care\n",
    "    4.2 Food & Refreshment\n",
    "    4.3 Home Care\n",
    "\n",
    "\n",
    "5. **SubCategory** - The different subcategories that a particular category has.\n",
    "\n",
    "\n",
    "6. **Brands** - The different brand of products present in a particular category. Example is Sunsilk, Pantene etc., in hair products.\n",
    "\n",
    "\n",
    "7. **SKU** - It is a unique Product ID assigned to every product produced and supplied by Unilever"
   ]
  },
  {
   "cell_type": "code",
   "execution_count": null,
   "metadata": {},
   "outputs": [],
   "source": []
  }
 ],
 "metadata": {
  "kernelspec": {
   "display_name": "Python 3",
   "language": "python",
   "name": "python3"
  },
  "language_info": {
   "codemirror_mode": {
    "name": "ipython",
    "version": 3
   },
   "file_extension": ".py",
   "mimetype": "text/x-python",
   "name": "python",
   "nbconvert_exporter": "python",
   "pygments_lexer": "ipython3",
   "version": "3.7.0"
  }
 },
 "nbformat": 4,
 "nbformat_minor": 2
}
