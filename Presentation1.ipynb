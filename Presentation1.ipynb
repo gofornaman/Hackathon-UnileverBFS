{
 "cells": [
  {
   "cell_type": "markdown",
   "metadata": {},
   "source": [
    "# BFS - Datathon - Team Blitzkreig"
   ]
  },
  {
   "cell_type": "markdown",
   "metadata": {},
   "source": [
    "1. Problem Statement\n",
    "2. Dataset\n",
    "2.1 Metrics we added (with explanation)\n",
    "2.2 Solution ( 3 fold )\n",
    "- Descriptive Analytics, which use data aggregation and data mining to provide insight into the past and answer: “What has happened?”\n",
    "- Predictive Analytics, which use statistical models and forecasts techniques to understand the future and answer: “What could happen?”\n",
    "- Prescriptive Analytics, which use optimization and simulation algorithms to advice on possible outcomes and answer: “What should we do?”\n",
    "\n",
    "2.3 Pipeline"
   ]
  },
  {
   "cell_type": "markdown",
   "metadata": {},
   "source": [
    "## Problem Statement"
   ]
  },
  {
   "cell_type": "markdown",
   "metadata": {},
   "source": [
    "**Short:** To build a dashboard which displays the trends in NRR and relevant metrics on a daily basis using the dataset provided. \n",
    "\n",
    "The basic aim of the dashboard is to visualize the data provided. It starts with providing a pipeline to get daily data from the offline stores. Certain new metrics are created using the data given and using them as filters, NRR at different levels of hierarchy are calculated and visualized.\n",
    "\n",
    "On top of the basic visualization, predictive analytics using the techniques of time series analysis is used to predict the NRR at future dates. New Data points are created using simple statistical tool to increase the number of data points available for the training of the dataset. This dataset is plugged into a predictive model.\n",
    "\n",
    "Another key feature of the dashboard is the power of customization given to the user. The user can input values for the 5 P's or Lever. These levers directly affect the turnover, which impacts the NRR. Thus with every input of a lever, the changes must be reflected on the dashboard."
   ]
  },
  {
   "cell_type": "markdown",
   "metadata": {},
   "source": [
    "## Metrics Added"
   ]
  },
  {
   "cell_type": "markdown",
   "metadata": {},
   "source": [
    "1. **Cluster** - It groups the different Distributors into the NAMETRUB countries.\n",
    "\n",
    "\n",
    "2. **Store Format** - The type and size of store. They are divided into:\n",
    "\n",
    "        2.1 Modern Trade: Distributors like Walmart, Big Bazaar and other such retail stores\n",
    "    \n",
    "        2.2 Distributive Trade: Smaller stores found with higher frequency which store a limited array of products.\n",
    "\n",
    "\n",
    "3. **Distributors** - The different distributors as given in the dataset. There were 43 unique distributors.\n",
    "\n",
    "\n",
    "4. **Division (Category)** - The broader category to which a particular brand and product belong to. They are:\n",
    "\n",
    "        4.1 Beauty & Personal Care\n",
    "    \n",
    "        4.2 Food & Refreshment\n",
    "    \n",
    "        4.3 Home Care\n",
    "\n",
    "\n",
    "5. **SubCategory** - The different subcategories that a particular category has.\n",
    "\n",
    "\n",
    "6. **Brands** - The different brand of products present in a particular category. Example is Sunsilk, Pantene etc., in hair products.\n",
    "\n",
    "\n",
    "7. **SKU** - It is a unique Product ID assigned to every product produced and supplied by Unilever"
   ]
  },
  {
   "cell_type": "markdown",
   "metadata": {},
   "source": [
    "## Dashboards"
   ]
  },
  {
   "cell_type": "markdown",
   "metadata": {},
   "source": [
    "The first dashboard provides basic **insights** like NRR trend, NRR vs GM scatter plot which can be accessed by location, Store format, division and distributor. It also shows the variance/growth trend of the NRR filtered using the above metrics.\n",
    "\n",
    "The second dashboard runs **analytics and statistical** formulas on the dataset and provides SKU level NRR analysis along with the best and worst performing SKUs and brands. It provides data filtered by Sub Category, brand and SKU.\n",
    "\n",
    "The third dashboard does **predictive analytics**, providing NRR values for the next 5 days. It also provides the user with an option to see the trends in NRR for different permutations and combinations of key levers like Promotions and Contract values."
   ]
  },
  {
   "cell_type": "markdown",
   "metadata": {},
   "source": [
    "## End Points - What next?"
   ]
  },
  {
   "cell_type": "markdown",
   "metadata": {},
   "source": [
    "1. NRR right now is dependent on TTS, which according to the data provided, depends only on Promotion and Contract. The other three levers are neglected, reducing the accuracy of our calculations. Say, for example, the product mix might be a contributing factor to the Turnover, but with the limited amount of data provided, it is tough to establish a relation. Thus, as we start collecting the daily data, we will increase our data points, thus giving us enough data to run statistical and machine learning models to figure out the correlation of other levers with the Turnover and NRR.\n",
    "\n",
    "2. The basic bot built into the dashboard makes it easy to access and understand the dashboard. You just input what you are looking for in plain english and the bot generates the report/chart/numbers. This can be built upon to develop a full fledged bot which can improve the readibility and accessibility of the bot.\n",
    "\n",
    "3. "
   ]
  },
  {
   "cell_type": "code",
   "execution_count": null,
   "metadata": {},
   "outputs": [],
   "source": []
  }
 ],
 "metadata": {
  "kernelspec": {
   "display_name": "Python 3",
   "language": "python",
   "name": "python3"
  },
  "language_info": {
   "codemirror_mode": {
    "name": "ipython",
    "version": 3
   },
   "file_extension": ".py",
   "mimetype": "text/x-python",
   "name": "python",
   "nbconvert_exporter": "python",
   "pygments_lexer": "ipython3",
   "version": "3.7.0"
  }
 },
 "nbformat": 4,
 "nbformat_minor": 2
}
