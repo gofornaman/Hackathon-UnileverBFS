{
 "cells": [
  {
   "cell_type": "markdown",
   "metadata": {},
   "source": [
    "# BFS - Datathon - Team Blitzkreig"
   ]
  },
  {
   "cell_type": "markdown",
   "metadata": {},
   "source": [
    "1. Problem Statement\n",
    "2. Dataset\n",
    "2.1 Metrics we added (with explanation)\n",
    "2.2 Solution ( 3 fold )\n",
    "- Descriptive Analytics, which use data aggregation and data mining to provide insight into the past and answer: “What has happened?”\n",
    "- Predictive Analytics, which use statistical models and forecasts techniques to understand the future and answer: “What could happen?”\n",
    "- Prescriptive Analytics, which use optimization and simulation algorithms to advice on possible outcomes and answer: “What should we do?”\n",
    "\n",
    "2.3 Pipeline"
   ]
  },
  {
   "cell_type": "code",
   "execution_count": null,
   "metadata": {},
   "outputs": [],
   "source": []
  }
 ],
 "metadata": {
  "kernelspec": {
   "display_name": "Python 3",
   "language": "python",
   "name": "python3"
  },
  "language_info": {
   "codemirror_mode": {
    "name": "ipython",
    "version": 3
   },
   "file_extension": ".py",
   "mimetype": "text/x-python",
   "name": "python",
   "nbconvert_exporter": "python",
   "pygments_lexer": "ipython3",
   "version": "3.6.6"
  }
 },
 "nbformat": 4,
 "nbformat_minor": 2
}
